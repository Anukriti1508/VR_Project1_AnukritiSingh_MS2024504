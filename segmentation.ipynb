{
  "nbformat": 4,
  "nbformat_minor": 0,
  "metadata": {
    "colab": {
      "provenance": [],
      "gpuType": "T4"
    },
    "kernelspec": {
      "name": "python3",
      "display_name": "Python 3"
    },
    "language_info": {
      "name": "python"
    },
    "accelerator": "GPU"
  },
  "cells": [
    {
      "cell_type": "code",
      "execution_count": 2,
      "metadata": {
        "id": "XzL90WnXUU1b"
      },
      "outputs": [],
      "source": []
    },
    {
      "cell_type": "markdown",
      "source": [
        "## **Via Unet method**"
      ],
      "metadata": {
        "id": "M88T6e_rU9Au"
      }
    },
    {
      "cell_type": "code",
      "source": [
        "import torch\n",
        "import torch.nn as nn\n",
        "import torch.optim as optim\n",
        "from torch.utils.data import Dataset, DataLoader\n",
        "import torchvision.transforms as transforms\n",
        "import os\n",
        "import cv2\n",
        "import numpy as np\n",
        "import matplotlib.pyplot as plt\n",
        "from tqdm import tqdm"
      ],
      "metadata": {
        "id": "filOAa-OUaLP"
      },
      "execution_count": 3,
      "outputs": []
    },
    {
      "cell_type": "code",
      "source": [
        "from google.colab import drive\n",
        "drive.mount('/content/drive')"
      ],
      "metadata": {
        "colab": {
          "base_uri": "https://localhost:8080/"
        },
        "id": "Jovr-y2-VTac",
        "outputId": "8d60c6a6-53e8-46a0-986f-3a66ae254a1b"
      },
      "execution_count": 4,
      "outputs": [
        {
          "output_type": "stream",
          "name": "stdout",
          "text": [
            "Drive already mounted at /content/drive; to attempt to forcibly remount, call drive.mount(\"/content/drive\", force_remount=True).\n"
          ]
        }
      ]
    },
    {
      "cell_type": "code",
      "source": [
        "# Check for GPU\n",
        "device = torch.device(\"cuda\" if torch.cuda.is_available() else \"cpu\")\n",
        "print(f\"Using device: {device}\")"
      ],
      "metadata": {
        "colab": {
          "base_uri": "https://localhost:8080/"
        },
        "id": "yWd4gXKMa8ww",
        "outputId": "51210ee7-02c7-47f6-89e9-2ac68cfac4fa"
      },
      "execution_count": 5,
      "outputs": [
        {
          "output_type": "stream",
          "name": "stdout",
          "text": [
            "Using device: cuda\n"
          ]
        }
      ]
    },
    {
      "cell_type": "code",
      "source": [
        "def iou_loss(pred, target, smooth=1e-6):\n",
        "    pred = torch.sigmoid(pred)\n",
        "    intersection = (pred * target).sum()\n",
        "    union = pred.sum() + target.sum() - intersection\n",
        "    return 1 - (intersection + smooth) / (union + smooth)"
      ],
      "metadata": {
        "id": "4thQlrwVOEZ5"
      },
      "execution_count": 6,
      "outputs": []
    },
    {
      "cell_type": "code",
      "source": [
        "# Define dataset class\n",
        "class FaceMaskDataset(Dataset):\n",
        "    def __init__(self, image_dir, mask_dir=None, transform=None, img_size=(512, 512)):\n",
        "        self.image_dir = image_dir\n",
        "        self.mask_dir = mask_dir\n",
        "        self.image_filenames = os.listdir(image_dir)\n",
        "        self.transform = transform\n",
        "        self.img_size = img_size\n",
        "\n",
        "    def __len__(self):\n",
        "        return len(self.image_filenames)\n",
        "\n",
        "    def __getitem__(self, idx):\n",
        "        img_path = os.path.join(self.image_dir, self.image_filenames[idx])\n",
        "\n",
        "        image = cv2.imread(img_path)\n",
        "        image = cv2.cvtColor(image, cv2.COLOR_BGR2RGB)\n",
        "        image = cv2.resize(image, self.img_size) / 255.0\n",
        "\n",
        "        if self.mask_dir:\n",
        "            mask_path = os.path.join(self.mask_dir, self.image_filenames[idx])\n",
        "            if not os.path.exists(mask_path) or cv2.imread(mask_path, cv2.IMREAD_GRAYSCALE) is None:\n",
        "                mask = np.zeros(self.img_size, dtype=np.uint8)\n",
        "            else:\n",
        "                mask = cv2.imread(mask_path, cv2.IMREAD_GRAYSCALE)\n",
        "                mask = cv2.resize(mask, self.img_size)\n",
        "            mask = np.expand_dims(mask, axis=0) / 255.0\n",
        "            mask_tensor = torch.tensor(mask, dtype=torch.float32)\n",
        "        else:\n",
        "            mask_tensor = torch.zeros((1, *self.img_size), dtype=torch.float32)\n",
        "\n",
        "        if self.transform:\n",
        "            image = self.transform(image)\n",
        "\n",
        "        return image, mask_tensor"
      ],
      "metadata": {
        "id": "vj6eenGeVeCp"
      },
      "execution_count": 7,
      "outputs": []
    },
    {
      "cell_type": "code",
      "source": [
        "# Define transformations\n",
        "transform = transforms.Compose([\n",
        "    transforms.ToPILImage(),\n",
        "    transforms.ToTensor()\n",
        "])\n",
        "\n",
        "# Load dataset\n",
        "train_dataset = FaceMaskDataset(\"/content/drive/MyDrive/MSFD/1/face_crop\", \"/content/drive/MyDrive/MSFD/1/face_crop_segmentation\", transform=transform)\n",
        "train_loader = DataLoader(train_dataset, batch_size=16, shuffle=True, num_workers=4, pin_memory=True)"
      ],
      "metadata": {
        "colab": {
          "base_uri": "https://localhost:8080/"
        },
        "id": "1yapOMqWVp8k",
        "outputId": "6ec9dc15-87ff-445e-868b-3449c8d2c239"
      },
      "execution_count": 8,
      "outputs": [
        {
          "output_type": "stream",
          "name": "stderr",
          "text": [
            "/usr/local/lib/python3.11/dist-packages/torch/utils/data/dataloader.py:624: UserWarning: This DataLoader will create 4 worker processes in total. Our suggested max number of worker in current system is 2, which is smaller than what this DataLoader is going to create. Please be aware that excessive worker creation might get DataLoader running slow or even freeze, lower the worker number to avoid potential slowness/freeze if necessary.\n",
            "  warnings.warn(\n"
          ]
        }
      ]
    },
    {
      "cell_type": "code",
      "source": [
        "# Define U-Net model\n",
        "class UNet(nn.Module):\n",
        "    def __init__(self):\n",
        "        super(UNet, self).__init__()\n",
        "\n",
        "        def conv_block(in_channels, out_channels):\n",
        "            return nn.Sequential(\n",
        "                nn.Conv2d(in_channels, out_channels, kernel_size=3, padding=1),\n",
        "                nn.ReLU(inplace=True),\n",
        "                nn.Conv2d(out_channels, out_channels, kernel_size=3, padding=1),\n",
        "                nn.ReLU(inplace=True)\n",
        "            )\n",
        "\n",
        "        self.enc1 = conv_block(3, 32)\n",
        "        self.enc2 = conv_block(32, 64)\n",
        "        self.enc3 = conv_block(64, 128)\n",
        "        self.enc4 = conv_block(128, 256)\n",
        "        self.bottleneck = conv_block(256, 512)\n",
        "\n",
        "        self.up1 = nn.ConvTranspose2d(512, 256, kernel_size=2, stride=2)\n",
        "        self.dec1 = conv_block(512, 256)\n",
        "\n",
        "        self.up2 = nn.ConvTranspose2d(256, 128, kernel_size=2, stride=2)\n",
        "        self.dec2 = conv_block(256, 128)\n",
        "\n",
        "        self.up3 = nn.ConvTranspose2d(128, 64, kernel_size=2, stride=2)\n",
        "        self.dec3 = conv_block(128, 64)\n",
        "\n",
        "        self.up4 = nn.ConvTranspose2d(64, 32, kernel_size=2, stride=2)\n",
        "        self.dec4 = conv_block(64, 32)\n",
        "\n",
        "        self.final = nn.Conv2d(32, 1, kernel_size=1)\n",
        "        self.pool = nn.MaxPool2d(2)\n",
        "\n",
        "    def forward(self, x):\n",
        "        e1 = self.enc1(x)\n",
        "        e2 = self.enc2(self.pool(e1))\n",
        "        e3 = self.enc3(self.pool(e2))\n",
        "        e4 = self.enc4(self.pool(e3))\n",
        "        b = self.bottleneck(self.pool(e4))\n",
        "\n",
        "        d1 = self.dec1(torch.cat([self.up1(b), e4], dim=1))\n",
        "        d2 = self.dec2(torch.cat([self.up2(d1), e3], dim=1))\n",
        "        d3 = self.dec3(torch.cat([self.up3(d2), e2], dim=1))\n",
        "        d4 = self.dec4(torch.cat([self.up4(d3), e1], dim=1))\n",
        "\n",
        "        return self.final(d4)"
      ],
      "metadata": {
        "id": "R8oqigXKePGK"
      },
      "execution_count": 9,
      "outputs": []
    },
    {
      "cell_type": "code",
      "source": [
        "# Initialize model\n",
        "model = UNet().to(device)\n",
        "optimizer = optim.Adam(model.parameters(), lr=0.0005)\n",
        "# criterion = nn.BCEWithLogitsLoss()\n",
        "criterion = iou_loss\n",
        "\n",
        "def train(model, dataloader, epochs=10):\n",
        "    model.train()\n",
        "    scaler = torch.cuda.amp.GradScaler()\n",
        "    for epoch in range(epochs):\n",
        "        epoch_loss = 0\n",
        "        progress_bar = tqdm(dataloader, desc=f\"Epoch {epoch+1}/{epochs}\")\n",
        "        for images, masks in progress_bar:\n",
        "            images, masks = images.to(device).float(), masks.to(device).float()\n",
        "            optimizer.zero_grad()\n",
        "            with torch.cuda.amp.autocast():\n",
        "                outputs = model(images)\n",
        "                loss = criterion(outputs, masks)\n",
        "            scaler.scale(loss).backward()\n",
        "            torch.nn.utils.clip_grad_norm_(model.parameters(), max_norm=1.0)  # Clip gradients\n",
        "            scaler.step(optimizer)\n",
        "            scaler.update()\n",
        "            epoch_loss += loss.item()\n",
        "            progress_bar.set_postfix(loss=epoch_loss / len(dataloader))\n",
        "\n",
        "# Train the model\n",
        "train(model, train_loader, epochs=10)\n"
      ],
      "metadata": {
        "colab": {
          "base_uri": "https://localhost:8080/"
        },
        "id": "VPqryn8IWKAl",
        "outputId": "8cc93afb-1915-4013-aab6-ecf4c6294a9b"
      },
      "execution_count": null,
      "outputs": [
        {
          "output_type": "stream",
          "name": "stderr",
          "text": [
            "<ipython-input-10-ca1e85e6849c>:9: FutureWarning: `torch.cuda.amp.GradScaler(args...)` is deprecated. Please use `torch.amp.GradScaler('cuda', args...)` instead.\n",
            "  scaler = torch.cuda.amp.GradScaler()\n",
            "Epoch 1/10:   0%|          | 0/587 [00:00<?, ?it/s]<ipython-input-10-ca1e85e6849c>:16: FutureWarning: `torch.cuda.amp.autocast(args...)` is deprecated. Please use `torch.amp.autocast('cuda', args...)` instead.\n",
            "  with torch.cuda.amp.autocast():\n",
            "Epoch 1/10:   1%|          | 4/587 [00:28<39:21,  4.05s/it, loss=0.00513]  "
          ]
        }
      ]
    },
    {
      "cell_type": "code",
      "source": [
        "torch.save(model.state_dict(), \"unet_face_mask.pth\")"
      ],
      "metadata": {
        "id": "FRHPt0-wmQaq"
      },
      "execution_count": null,
      "outputs": []
    },
    {
      "cell_type": "code",
      "source": [
        "def test_and_visualize(model, dataloader):\n",
        "    model.eval()\n",
        "    with torch.no_grad():\n",
        "        fig, ax = plt.subplots(5, 2, figsize=(10, 25))\n",
        "        for i, (images, _) in enumerate(dataloader):\n",
        "            if i >= 5:\n",
        "                break\n",
        "            images = images.to(device).float()\n",
        "            outputs = torch.sigmoid(model(images))\n",
        "            image_np = images[0].cpu().permute(1, 2, 0).numpy()\n",
        "            output_np = outputs[0].cpu().squeeze().numpy()\n",
        "            ax[i, 0].imshow(image_np)\n",
        "            ax[i, 0].set_title(\"Original Image\")\n",
        "            ax[i, 1].imshow(output_np, cmap='gray')\n",
        "            ax[i, 1].set_title(\"Predicted Mask\")\n",
        "        plt.show()"
      ],
      "metadata": {
        "id": "Mwb4erNImS9Q"
      },
      "execution_count": null,
      "outputs": []
    },
    {
      "cell_type": "code",
      "source": [
        "test_dataset = FaceMaskDataset(\"/content/drive/MyDrive/MSFD/2/img\", mask_dir=None, transform=transform)\n",
        "test_loader = DataLoader(test_dataset, batch_size=4, shuffle=True)\n",
        "test_and_visualize(model, test_loader)"
      ],
      "metadata": {
        "id": "o8GIJMtgevJC"
      },
      "execution_count": null,
      "outputs": []
    },
    {
      "cell_type": "code",
      "source": [],
      "metadata": {
        "id": "bZB9Tezwnvi_"
      },
      "execution_count": null,
      "outputs": []
    }
  ]
}